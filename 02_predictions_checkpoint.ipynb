{
  "cells": [
    {
      "cell_type": "markdown",
      "metadata": {
        "id": "view-in-github",
        "colab_type": "text"
      },
      "source": [
        "<a href=\"https://colab.research.google.com/github/DevanshPatel234/Innovators/blob/main/02_predictions_checkpoint.ipynb\" target=\"_parent\"><img src=\"https://colab.research.google.com/assets/colab-badge.svg\" alt=\"Open In Colab\"/></a>"
      ]
    },
    {
      "cell_type": "code",
      "execution_count": null,
      "id": "b22ccd3e",
      "metadata": {
        "id": "b22ccd3e"
      },
      "outputs": [],
      "source": [
        "import cv2\n",
        "from yolo_predictions import YOLO_Pred"
      ]
    },
    {
      "cell_type": "code",
      "execution_count": null,
      "id": "aae7f92a",
      "metadata": {
        "id": "aae7f92a"
      },
      "outputs": [],
      "source": [
        "yolo = YOLO_Pred('./Model/weights/best.onnx','data.yaml')"
      ]
    },
    {
      "cell_type": "code",
      "execution_count": null,
      "id": "2688feb9",
      "metadata": {
        "id": "2688feb9"
      },
      "outputs": [],
      "source": [
        "img = cv2.imread('./street_image.jpg')\n",
        "\n",
        "cv2.imshow('img',img)\n",
        "cv2.waitKey(0)\n",
        "cv2.destroyAllWindows()"
      ]
    },
    {
      "cell_type": "code",
      "execution_count": null,
      "id": "2da584b5",
      "metadata": {
        "id": "2da584b5"
      },
      "outputs": [],
      "source": [
        "# predictions\n",
        "img_pred = yolo.predictions(img)"
      ]
    },
    {
      "cell_type": "code",
      "execution_count": null,
      "id": "fe0f06f4",
      "metadata": {
        "id": "fe0f06f4"
      },
      "outputs": [],
      "source": [
        "cv2.imshow('prediction image',img_pred)\n",
        "cv2.waitKey(0)\n",
        "cv2.destroyAllWindows()"
      ]
    },
    {
      "cell_type": "markdown",
      "id": "fbcfbd9f",
      "metadata": {
        "id": "fbcfbd9f"
      },
      "source": [
        "## Real Time Object Detection"
      ]
    },
    {
      "cell_type": "code",
      "execution_count": null,
      "id": "d13ba8d8",
      "metadata": {
        "id": "d13ba8d8"
      },
      "outputs": [],
      "source": [
        "cap = cv2.VideoCapture('video.mp4')\n",
        "\n",
        "\n",
        "while True:\n",
        "    ret, frame = cap.read()\n",
        "    if ret == False:\n",
        "        print('unable to read video')\n",
        "        break\n",
        "\n",
        "    pred_image = yolo.predictions(frame)\n",
        "\n",
        "    cv2.imshow('YOLO',pred_image)\n",
        "    if cv2.waitKey(1) == 27:\n",
        "        break\n",
        "\n",
        "cv2.destroyAllWindows()\n",
        "cap.release()"
      ]
    },
    {
      "cell_type": "code",
      "source": [],
      "metadata": {
        "id": "wtBnK_-antoX"
      },
      "id": "wtBnK_-antoX",
      "execution_count": null,
      "outputs": []
    }
  ],
  "metadata": {
    "kernelspec": {
      "display_name": "Python 3 (ipykernel)",
      "language": "python",
      "name": "python3"
    },
    "language_info": {
      "codemirror_mode": {
        "name": "ipython",
        "version": 3
      },
      "file_extension": ".py",
      "mimetype": "text/x-python",
      "name": "python",
      "nbconvert_exporter": "python",
      "pygments_lexer": "ipython3",
      "version": "3.9.10"
    },
    "colab": {
      "provenance": [],
      "include_colab_link": true
    }
  },
  "nbformat": 4,
  "nbformat_minor": 5
}